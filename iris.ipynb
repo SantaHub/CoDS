{
 "cells": [
  {
   "cell_type": "code",
   "execution_count": 1,
   "metadata": {},
   "outputs": [
    {
     "data": {
      "text/html": [
       "<div>\n",
       "<style>\n",
       "    .dataframe thead tr:only-child th {\n",
       "        text-align: right;\n",
       "    }\n",
       "\n",
       "    .dataframe thead th {\n",
       "        text-align: left;\n",
       "    }\n",
       "\n",
       "    .dataframe tbody tr th {\n",
       "        vertical-align: top;\n",
       "    }\n",
       "</style>\n",
       "<table border=\"1\" class=\"dataframe\">\n",
       "  <thead>\n",
       "    <tr style=\"text-align: right;\">\n",
       "      <th></th>\n",
       "      <th>sl</th>\n",
       "      <th>sw</th>\n",
       "      <th>pl</th>\n",
       "      <th>pw</th>\n",
       "      <th>flower_type</th>\n",
       "    </tr>\n",
       "  </thead>\n",
       "  <tbody>\n",
       "    <tr>\n",
       "      <th>0</th>\n",
       "      <td>5.1</td>\n",
       "      <td>3.5</td>\n",
       "      <td>1.4</td>\n",
       "      <td>0.2</td>\n",
       "      <td>Iris-setosa</td>\n",
       "    </tr>\n",
       "    <tr>\n",
       "      <th>1</th>\n",
       "      <td>4.9</td>\n",
       "      <td>3.0</td>\n",
       "      <td>1.4</td>\n",
       "      <td>0.2</td>\n",
       "      <td>Iris-setosa</td>\n",
       "    </tr>\n",
       "    <tr>\n",
       "      <th>2</th>\n",
       "      <td>4.7</td>\n",
       "      <td>3.2</td>\n",
       "      <td>1.3</td>\n",
       "      <td>0.2</td>\n",
       "      <td>Iris-setosa</td>\n",
       "    </tr>\n",
       "    <tr>\n",
       "      <th>3</th>\n",
       "      <td>4.6</td>\n",
       "      <td>3.1</td>\n",
       "      <td>1.5</td>\n",
       "      <td>0.2</td>\n",
       "      <td>Iris-setosa</td>\n",
       "    </tr>\n",
       "    <tr>\n",
       "      <th>4</th>\n",
       "      <td>5.0</td>\n",
       "      <td>3.6</td>\n",
       "      <td>1.4</td>\n",
       "      <td>0.2</td>\n",
       "      <td>Iris-setosa</td>\n",
       "    </tr>\n",
       "  </tbody>\n",
       "</table>\n",
       "</div>"
      ],
      "text/plain": [
       "    sl   sw   pl   pw  flower_type\n",
       "0  5.1  3.5  1.4  0.2  Iris-setosa\n",
       "1  4.9  3.0  1.4  0.2  Iris-setosa\n",
       "2  4.7  3.2  1.3  0.2  Iris-setosa\n",
       "3  4.6  3.1  1.5  0.2  Iris-setosa\n",
       "4  5.0  3.6  1.4  0.2  Iris-setosa"
      ]
     },
     "execution_count": 1,
     "metadata": {},
     "output_type": "execute_result"
    }
   ],
   "source": [
    "import pandas as pd  #importing pandas library \n",
    "\n",
    "#data have to be read as Dataframe using the Pandas Library\n",
    "data= pd.read_csv('iris.data',names=('sl','sw','pl','pw','flower_type'))  \n",
    "\n",
    "#view the data\n",
    "data.iloc[:5,:] #iloc is used to access the dataframe\n",
    "                # :5 means first 5 rows, : means all the columns\n"
   ]
  },
  {
   "cell_type": "code",
   "execution_count": 2,
   "metadata": {},
   "outputs": [
    {
     "name": "stdout",
     "output_type": "stream",
     "text": [
      "['Iris-setosa' 'Iris-versicolor' 'Iris-virginica']\n"
     ]
    }
   ],
   "source": [
    "from numpy import unique\n",
    "\n",
    "print(unique(data['flower_type'])) #Gives the type of flowers we have. 3 types\n",
    "\n",
    "# We have to change the type to number for the basic machine learning algorithms to learn."
   ]
  },
  {
   "cell_type": "code",
   "execution_count": 3,
   "metadata": {},
   "outputs": [
    {
     "name": "stdout",
     "output_type": "stream",
     "text": [
      "[0 1 2]\n"
     ]
    }
   ],
   "source": [
    "from sklearn.preprocessing import LabelEncoder #Label encoders covert labels to numerical format\n",
    "le=LabelEncoder()\n",
    "\n",
    "data['flower_type'] = le.fit_transform(data['flower_type'])\n",
    "\n",
    "print(unique(data['flower_type'])) #The types changed to 0,1 and 2. Now we can run our algorithms on them."
   ]
  },
  {
   "cell_type": "code",
   "execution_count": 4,
   "metadata": {
    "collapsed": true
   },
   "outputs": [],
   "source": [
    "#To test the accuracy of the algorithms we to split the data into two :\n",
    "    # Training Set - Train the algorithm on this and form a hypothesis\n",
    "    # Testing Set - Make the algorithm predict using this set.\n",
    "    \n",
    "from sklearn.model_selection import train_test_split \n",
    "\n",
    "# Split the data into 80% train data and 20% test data. More training ...better your algorithm become.\n",
    "X_train,X_test,y_train,y_test= train_test_split(data.iloc[:,:4],data.iloc[:,-1],test_size=0.2)\n",
    "\n",
    "#we have divided it into 4 parts. X parts contains the features (sl,sw,pl,pw). Y parts contains the flower_type."
   ]
  },
  {
   "cell_type": "code",
   "execution_count": 5,
   "metadata": {},
   "outputs": [
    {
     "name": "stdout",
     "output_type": "stream",
     "text": [
      "sl    6.5\n",
      "sw    3.0\n",
      "pl    5.2\n",
      "pw    2.0\n",
      "Name: 147, dtype: float64\n"
     ]
    }
   ],
   "source": [
    "from sklearn.ensemble import RandomForestClassifier # Using Randomforest algorithm\n",
    "\n",
    "rfc=RandomForestClassifier()\n",
    "rfc=rfc.fit(X_train,y_train) # rfc learns uses features from X_train and the label from y_train to forms a hypothesis.\n",
    "\n",
    "\n",
    "print(X_test.iloc[1]) #We will this features to check the accuracy of rfc."
   ]
  },
  {
   "cell_type": "code",
   "execution_count": 6,
   "metadata": {},
   "outputs": [
    {
     "name": "stdout",
     "output_type": "stream",
     "text": [
      "2\n"
     ]
    }
   ],
   "source": [
    "print(y_test.iloc[1]) # This is actual flower type for the above features.\n",
    "                                                        # 0 means Iris-setosa\n",
    "                                                        # 1 means Iris-versicolor.\n",
    "                                                        # 2 means  Iris-virginica"
   ]
  },
  {
   "cell_type": "code",
   "execution_count": 7,
   "metadata": {},
   "outputs": [
    {
     "name": "stdout",
     "output_type": "stream",
     "text": [
      "[2]\n"
     ]
    }
   ],
   "source": [
    "import numpy as np\n",
    "# now we are gonna ask our rfc to predict the flower\n",
    "print( rfc.predict( [X_test.iloc[1]]   )) # we giving rfc the features and asking to predict the label\n",
    "\n",
    "# RFC has predicted correctly. Now we pass to it the rest of the test sets. "
   ]
  },
  {
   "cell_type": "code",
   "execution_count": 8,
   "metadata": {},
   "outputs": [
    {
     "data": {
      "text/plain": [
       "90.0"
      ]
     },
     "execution_count": 8,
     "metadata": {},
     "output_type": "execute_result"
    }
   ],
   "source": [
    "y_pred=rfc.predict(X_test) # asking rfc to predict the whole test set and store in y_predict\n",
    "\n",
    "# Now we have y_pred - rfc predicted class\n",
    "            # y_test - the real class\n",
    "    # we will now check the accuracy \n",
    "\n",
    "from sklearn.metrics import accuracy_score\n",
    "\n",
    "accuracy_score(y_test,y_pred)*100 # Our algorithm accuracy in percentage is show below!!"
   ]
  },
  {
   "cell_type": "code",
   "execution_count": 9,
   "metadata": {
    "collapsed": true
   },
   "outputs": [],
   "source": [
    "# This means we can feed the classifier any iris flower features and it will be able to predict which iris variety it belongs to.\n",
    "\n",
    "# Try running the code. You might get different accuracy each time since the train set is variying. The better the training set the better your classifier becomes.\n",
    "\n",
    "# You have learned how to do basic classification. Congrats."
   ]
  }
 ],
 "metadata": {
  "kernelspec": {
   "display_name": "Python 3",
   "language": "python",
   "name": "python3"
  },
  "language_info": {
   "codemirror_mode": {
    "name": "ipython",
    "version": 3
   },
   "file_extension": ".py",
   "mimetype": "text/x-python",
   "name": "python",
   "nbconvert_exporter": "python",
   "pygments_lexer": "ipython3",
   "version": "3.6.2"
  }
 },
 "nbformat": 4,
 "nbformat_minor": 2
}
